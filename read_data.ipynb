{
 "cells": [
  {
   "cell_type": "code",
   "execution_count": 1,
   "id": "87c82a33",
   "metadata": {
    "_cell_guid": "b1076dfc-b9ad-4769-8c92-a6c4dae69d19",
    "_uuid": "8f2839f25d086af736a60e9eeb907d3b93b6e0e5",
    "execution": {
     "iopub.execute_input": "2023-04-25T10:07:23.145690Z",
     "iopub.status.busy": "2023-04-25T10:07:23.145157Z",
     "iopub.status.idle": "2023-04-25T10:07:23.167224Z",
     "shell.execute_reply": "2023-04-25T10:07:23.165701Z"
    },
    "papermill": {
     "duration": 0.030341,
     "end_time": "2023-04-25T10:07:23.170416",
     "exception": false,
     "start_time": "2023-04-25T10:07:23.140075",
     "status": "completed"
    },
    "tags": []
   },
   "outputs": [
    {
     "name": "stdout",
     "output_type": "stream",
     "text": [
      "/kaggle/input/premier-league-2022-2023/epl_results_2022-23.csv\n",
      "/kaggle/input/premier-league-2022-2023/epl_clubs_info_2022-23.csv\n"
     ]
    }
   ],
   "source": [
    "# This Python 3 environment comes with many helpful analytics libraries installed\n",
    "# It is defined by the kaggle/python Docker image: https://github.com/kaggle/docker-python\n",
    "# For example, here's several helpful packages to load\n",
    "\n",
    "import numpy as np # linear algebra\n",
    "import pandas as pd # data processing, CSV file I/O (e.g. pd.read_csv)\n",
    "\n",
    "# Input data files are available in the read-only \"../input/\" directory\n",
    "# For example, running this (by clicking run or pressing Shift+Enter) will list all files under the input directory\n",
    "\n",
    "import os\n",
    "for dirname, _, filenames in os.walk('/kaggle/input'):\n",
    "    for filename in filenames:\n",
    "        print(os.path.join(dirname, filename))\n",
    "\n",
    "# You can write up to 20GB to the current directory (/kaggle/working/) that gets preserved as output when you create a version using \"Save & Run All\" \n",
    "# You can also write temporary files to /kaggle/temp/, but they won't be saved outside of the current session"
   ]
  },
  {
   "cell_type": "code",
   "execution_count": null,
   "id": "90f2087f",
   "metadata": {
    "execution": {
     "iopub.execute_input": "2023-04-25T10:04:04.456231Z",
     "iopub.status.busy": "2023-04-25T10:04:04.455048Z",
     "iopub.status.idle": "2023-04-25T10:04:04.524289Z",
     "shell.execute_reply": "2023-04-25T10:04:04.523161Z",
     "shell.execute_reply.started": "2023-04-25T10:04:04.456183Z"
    },
    "papermill": {
     "duration": 0.001598,
     "end_time": "2023-04-25T10:07:23.174298",
     "exception": false,
     "start_time": "2023-04-25T10:07:23.172700",
     "status": "completed"
    },
    "tags": []
   },
   "outputs": [],
   "source": [
    "\n"
   ]
  },
  {
   "cell_type": "code",
   "execution_count": null,
   "id": "fe4c000a",
   "metadata": {
    "papermill": {
     "duration": 0.001543,
     "end_time": "2023-04-25T10:07:23.177621",
     "exception": false,
     "start_time": "2023-04-25T10:07:23.176078",
     "status": "completed"
    },
    "tags": []
   },
   "outputs": [],
   "source": []
  }
 ],
 "metadata": {
  "kernelspec": {
   "display_name": "Python 3",
   "language": "python",
   "name": "python3"
  },
  "language_info": {
   "codemirror_mode": {
    "name": "ipython",
    "version": 3
   },
   "file_extension": ".py",
   "mimetype": "text/x-python",
   "name": "python",
   "nbconvert_exporter": "python",
   "pygments_lexer": "ipython3",
   "version": "3.7.12"
  },
  "papermill": {
   "default_parameters": {},
   "duration": 10.887039,
   "end_time": "2023-04-25T10:07:23.802192",
   "environment_variables": {},
   "exception": null,
   "input_path": "__notebook__.ipynb",
   "output_path": "__notebook__.ipynb",
   "parameters": {},
   "start_time": "2023-04-25T10:07:12.915153",
   "version": "2.4.0"
  }
 },
 "nbformat": 4,
 "nbformat_minor": 5
}
