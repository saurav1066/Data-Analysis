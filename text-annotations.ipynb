{
 "cells": [
  {
   "cell_type": "code",
   "execution_count": 1,
   "id": "6d3d6332",
   "metadata": {
    "_cell_guid": "b1076dfc-b9ad-4769-8c92-a6c4dae69d19",
    "_uuid": "8f2839f25d086af736a60e9eeb907d3b93b6e0e5",
    "execution": {
     "iopub.execute_input": "2023-06-07T20:10:21.686166Z",
     "iopub.status.busy": "2023-06-07T20:10:21.685709Z",
     "iopub.status.idle": "2023-06-07T20:10:24.075154Z",
     "shell.execute_reply": "2023-06-07T20:10:24.073973Z"
    },
    "papermill": {
     "duration": 2.396302,
     "end_time": "2023-06-07T20:10:24.077949",
     "exception": false,
     "start_time": "2023-06-07T20:10:21.681647",
     "status": "completed"
    },
    "tags": []
   },
   "outputs": [
    {
     "name": "stdout",
     "output_type": "stream",
     "text": [
      "I PRP\n",
      "am VBP\n",
      "writing VBG\n",
      "a DT\n",
      "simple JJ\n",
      "script NN\n",
      "for IN\n",
      "annotations NNS\n",
      ". .\n"
     ]
    }
   ],
   "source": [
    "#Simple Pos Tagging Task\n",
    "\n",
    "import nltk\n",
    "\n",
    "#nltk.download('averaged_perceptron_tagger')\n",
    "\n",
    "#Example text\n",
    "text = \"I am writing a simple script for annotations.\"\n",
    "\n",
    "# Tokenizing individual words\n",
    "tokens = nltk.word_tokenize(text)\n",
    "\n",
    "# Performing PoS tagging\n",
    "pos_tags = nltk.pos_tag(tokens)\n",
    "\n",
    "#checking the generated tags\n",
    "for word, pos in pos_tags:\n",
    "    print(word, pos)\n"
   ]
  },
  {
   "cell_type": "code",
   "execution_count": 2,
   "id": "bd3a5c0b",
   "metadata": {
    "execution": {
     "iopub.execute_input": "2023-06-07T20:10:24.083883Z",
     "iopub.status.busy": "2023-06-07T20:10:24.083457Z",
     "iopub.status.idle": "2023-06-07T20:10:40.324785Z",
     "shell.execute_reply": "2023-06-07T20:10:40.323493Z"
    },
    "papermill": {
     "duration": 16.246982,
     "end_time": "2023-06-07T20:10:40.327325",
     "exception": false,
     "start_time": "2023-06-07T20:10:24.080343",
     "status": "completed"
    },
    "tags": []
   },
   "outputs": [
    {
     "name": "stderr",
     "output_type": "stream",
     "text": [
      "/opt/conda/lib/python3.10/site-packages/tensorflow_io/python/ops/__init__.py:98: UserWarning: unable to load libtensorflow_io_plugins.so: unable to open file: libtensorflow_io_plugins.so, from paths: ['/opt/conda/lib/python3.10/site-packages/tensorflow_io/python/ops/libtensorflow_io_plugins.so']\n",
      "caused by: ['/opt/conda/lib/python3.10/site-packages/tensorflow_io/python/ops/libtensorflow_io_plugins.so: undefined symbol: _ZN3tsl6StatusC1EN10tensorflow5error4CodeESt17basic_string_viewIcSt11char_traitsIcEENS_14SourceLocationE']\n",
      "  warnings.warn(f\"unable to load libtensorflow_io_plugins.so: {e}\")\n",
      "/opt/conda/lib/python3.10/site-packages/tensorflow_io/python/ops/__init__.py:104: UserWarning: file system plugins are not loaded: unable to open file: libtensorflow_io.so, from paths: ['/opt/conda/lib/python3.10/site-packages/tensorflow_io/python/ops/libtensorflow_io.so']\n",
      "caused by: ['/opt/conda/lib/python3.10/site-packages/tensorflow_io/python/ops/libtensorflow_io.so: undefined symbol: _ZTVN10tensorflow13GcsFileSystemE']\n",
      "  warnings.warn(f\"file system plugins are not loaded: {e}\")\n"
     ]
    },
    {
     "name": "stdout",
     "output_type": "stream",
     "text": [
      "Nike --> ORG\n",
      "Jordan --> PERSON\n",
      "Air --> PERSON\n",
      "last --> DATE\n",
      "Sunday --> DATE\n",
      "of --> DATE\n",
      "June --> DATE\n"
     ]
    }
   ],
   "source": [
    "#Simple NER Tagger\n",
    "#if spacy is not installed previously we must download it first with \n",
    "#pip install spacy\n",
    "#Also we might have to download \"en_core_web_sm\" package from spacy\n",
    "\n",
    "import spacy\n",
    "\n",
    "# Loading the pre-trained spaCy model for english language\n",
    "nlp = spacy.load(\"en_core_web_sm\")\n",
    "\n",
    "# Defining the example text\n",
    "text = \"Nike is launching new Jordan Air shoes on last Sunday of June.\"\n",
    "\n",
    "# Process the text with spaCy\n",
    "doc = nlp(text)\n",
    "\n",
    "# Iterate over each token in the processed document\n",
    "for token in doc:\n",
    "    # Check if the token is a named entity\n",
    "    if token.ent_type_:\n",
    "        # Print the named entity text and its label\n",
    "        print(token.text, \"-->\", token.ent_type_)"
   ]
  }
 ],
 "metadata": {
  "kernelspec": {
   "display_name": "Python 3",
   "language": "python",
   "name": "python3"
  },
  "language_info": {
   "codemirror_mode": {
    "name": "ipython",
    "version": 3
   },
   "file_extension": ".py",
   "mimetype": "text/x-python",
   "name": "python",
   "nbconvert_exporter": "python",
   "pygments_lexer": "ipython3",
   "version": "3.10.10"
  },
  "papermill": {
   "default_parameters": {},
   "duration": 33.713072,
   "end_time": "2023-06-07T20:10:43.200617",
   "environment_variables": {},
   "exception": null,
   "input_path": "__notebook__.ipynb",
   "output_path": "__notebook__.ipynb",
   "parameters": {},
   "start_time": "2023-06-07T20:10:09.487545",
   "version": "2.4.0"
  }
 },
 "nbformat": 4,
 "nbformat_minor": 5
}
