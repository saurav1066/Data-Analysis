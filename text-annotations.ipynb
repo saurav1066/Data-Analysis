{
 "cells": [
  {
   "cell_type": "code",
   "execution_count": 1,
   "id": "316dc8d5",
   "metadata": {
    "_cell_guid": "b1076dfc-b9ad-4769-8c92-a6c4dae69d19",
    "_uuid": "8f2839f25d086af736a60e9eeb907d3b93b6e0e5",
    "execution": {
     "iopub.execute_input": "2023-06-07T20:04:22.877510Z",
     "iopub.status.busy": "2023-06-07T20:04:22.877116Z",
     "iopub.status.idle": "2023-06-07T20:04:24.930701Z",
     "shell.execute_reply": "2023-06-07T20:04:24.929475Z"
    },
    "papermill": {
     "duration": 2.059671,
     "end_time": "2023-06-07T20:04:24.933206",
     "exception": false,
     "start_time": "2023-06-07T20:04:22.873535",
     "status": "completed"
    },
    "tags": []
   },
   "outputs": [
    {
     "name": "stdout",
     "output_type": "stream",
     "text": [
      "I PRP\n",
      "am VBP\n",
      "writing VBG\n",
      "a DT\n",
      "simple JJ\n",
      "script NN\n",
      "for IN\n",
      "annotations NNS\n",
      ". .\n"
     ]
    }
   ],
   "source": [
    "#Simple Pos Tagging Task\n",
    "\n",
    "import nltk\n",
    "\n",
    "#nltk.download('averaged_perceptron_tagger')\n",
    "\n",
    "#Example text\n",
    "text = \"I am writing a simple script for annotations.\"\n",
    "\n",
    "# Tokenizing individual words\n",
    "tokens = nltk.word_tokenize(text)\n",
    "\n",
    "# Performing PoS tagging\n",
    "pos_tags = nltk.pos_tag(tokens)\n",
    "\n",
    "#checking the generated tags\n",
    "for word, pos in pos_tags:\n",
    "    print(word, pos)\n"
   ]
  },
  {
   "cell_type": "code",
   "execution_count": 2,
   "id": "4d8679cf",
   "metadata": {
    "execution": {
     "iopub.execute_input": "2023-06-07T20:04:24.938663Z",
     "iopub.status.busy": "2023-06-07T20:04:24.938303Z",
     "iopub.status.idle": "2023-06-07T20:04:39.393854Z",
     "shell.execute_reply": "2023-06-07T20:04:39.392371Z"
    },
    "papermill": {
     "duration": 14.460929,
     "end_time": "2023-06-07T20:04:39.396224",
     "exception": false,
     "start_time": "2023-06-07T20:04:24.935295",
     "status": "completed"
    },
    "tags": []
   },
   "outputs": [
    {
     "name": "stderr",
     "output_type": "stream",
     "text": [
      "/opt/conda/lib/python3.10/site-packages/tensorflow_io/python/ops/__init__.py:98: UserWarning: unable to load libtensorflow_io_plugins.so: unable to open file: libtensorflow_io_plugins.so, from paths: ['/opt/conda/lib/python3.10/site-packages/tensorflow_io/python/ops/libtensorflow_io_plugins.so']\n",
      "caused by: ['/opt/conda/lib/python3.10/site-packages/tensorflow_io/python/ops/libtensorflow_io_plugins.so: undefined symbol: _ZN3tsl6StatusC1EN10tensorflow5error4CodeESt17basic_string_viewIcSt11char_traitsIcEENS_14SourceLocationE']\n",
      "  warnings.warn(f\"unable to load libtensorflow_io_plugins.so: {e}\")\n",
      "/opt/conda/lib/python3.10/site-packages/tensorflow_io/python/ops/__init__.py:104: UserWarning: file system plugins are not loaded: unable to open file: libtensorflow_io.so, from paths: ['/opt/conda/lib/python3.10/site-packages/tensorflow_io/python/ops/libtensorflow_io.so']\n",
      "caused by: ['/opt/conda/lib/python3.10/site-packages/tensorflow_io/python/ops/libtensorflow_io.so: undefined symbol: _ZTVN10tensorflow13GcsFileSystemE']\n",
      "  warnings.warn(f\"file system plugins are not loaded: {e}\")\n"
     ]
    },
    {
     "name": "stdout",
     "output_type": "stream",
     "text": [
      "Apple --> ORG\n",
      "Inc. --> ORG\n",
      "New --> GPE\n",
      "York --> GPE\n",
      "City --> GPE\n",
      "next --> DATE\n",
      "month --> DATE\n"
     ]
    }
   ],
   "source": [
    "#Simple NER Tagger\n",
    "\n",
    "import spacy\n",
    "\n",
    "# Load the pre-trained spaCy model\n",
    "nlp = spacy.load(\"en_core_web_sm\")\n",
    "\n",
    "# Define the text to be analyzed\n",
    "text = \"Apple Inc. is planning to open a new store in New York City next month.\"\n",
    "\n",
    "# Process the text with spaCy\n",
    "doc = nlp(text)\n",
    "\n",
    "# Iterate over each token in the processed document\n",
    "for token in doc:\n",
    "    # Check if the token is a named entity\n",
    "    if token.ent_type_:\n",
    "        # Print the named entity text and its label\n",
    "        print(token.text, \"-->\", token.ent_type_)"
   ]
  }
 ],
 "metadata": {
  "kernelspec": {
   "display_name": "Python 3",
   "language": "python",
   "name": "python3"
  },
  "language_info": {
   "codemirror_mode": {
    "name": "ipython",
    "version": 3
   },
   "file_extension": ".py",
   "mimetype": "text/x-python",
   "name": "python",
   "nbconvert_exporter": "python",
   "pygments_lexer": "ipython3",
   "version": "3.10.10"
  },
  "papermill": {
   "default_parameters": {},
   "duration": 30.635855,
   "end_time": "2023-06-07T20:04:42.033843",
   "environment_variables": {},
   "exception": null,
   "input_path": "__notebook__.ipynb",
   "output_path": "__notebook__.ipynb",
   "parameters": {},
   "start_time": "2023-06-07T20:04:11.397988",
   "version": "2.4.0"
  }
 },
 "nbformat": 4,
 "nbformat_minor": 5
}
