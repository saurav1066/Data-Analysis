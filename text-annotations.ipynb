{
 "cells": [
  {
   "cell_type": "code",
   "execution_count": 1,
   "id": "23c872c3",
   "metadata": {
    "_cell_guid": "b1076dfc-b9ad-4769-8c92-a6c4dae69d19",
    "_uuid": "8f2839f25d086af736a60e9eeb907d3b93b6e0e5",
    "execution": {
     "iopub.execute_input": "2023-06-07T19:10:00.728028Z",
     "iopub.status.busy": "2023-06-07T19:10:00.727073Z",
     "iopub.status.idle": "2023-06-07T19:10:02.676103Z",
     "shell.execute_reply": "2023-06-07T19:10:02.675227Z"
    },
    "papermill": {
     "duration": 1.954734,
     "end_time": "2023-06-07T19:10:02.678213",
     "exception": false,
     "start_time": "2023-06-07T19:10:00.723479",
     "status": "completed"
    },
    "tags": []
   },
   "outputs": [
    {
     "name": "stdout",
     "output_type": "stream",
     "text": [
      "I PRP\n",
      "am VBP\n",
      "writing VBG\n",
      "a DT\n",
      "simple JJ\n",
      "script NN\n",
      "for IN\n",
      "annotations NNS\n",
      ". .\n"
     ]
    }
   ],
   "source": [
    "#Simple Pos Tagging Task\n",
    "\n",
    "import nltk\n",
    "\n",
    "#nltk.download('averaged_perceptron_tagger')\n",
    "\n",
    "#Example text\n",
    "text = \"I am writing a simple script for annotations.\"\n",
    "\n",
    "# Tokenizing individual words\n",
    "tokens = nltk.word_tokenize(text)\n",
    "\n",
    "# Performing PoS tagging\n",
    "pos_tags = nltk.pos_tag(tokens)\n",
    "\n",
    "#checking the generated tags\n",
    "for word, pos in pos_tags:\n",
    "    print(word, pos)\n"
   ]
  }
 ],
 "metadata": {
  "kernelspec": {
   "display_name": "Python 3",
   "language": "python",
   "name": "python3"
  },
  "language_info": {
   "codemirror_mode": {
    "name": "ipython",
    "version": 3
   },
   "file_extension": ".py",
   "mimetype": "text/x-python",
   "name": "python",
   "nbconvert_exporter": "python",
   "pygments_lexer": "ipython3",
   "version": "3.10.10"
  },
  "papermill": {
   "default_parameters": {},
   "duration": 13.001818,
   "end_time": "2023-06-07T19:10:03.499878",
   "environment_variables": {},
   "exception": null,
   "input_path": "__notebook__.ipynb",
   "output_path": "__notebook__.ipynb",
   "parameters": {},
   "start_time": "2023-06-07T19:09:50.498060",
   "version": "2.4.0"
  }
 },
 "nbformat": 4,
 "nbformat_minor": 5
}
